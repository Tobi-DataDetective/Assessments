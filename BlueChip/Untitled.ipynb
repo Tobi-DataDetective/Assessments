{
 "cells": [
  {
   "cell_type": "code",
   "execution_count": 2,
   "metadata": {},
   "outputs": [
    {
     "data": {
      "text/html": [
       "<div>\n",
       "<style scoped>\n",
       "    .dataframe tbody tr th:only-of-type {\n",
       "        vertical-align: middle;\n",
       "    }\n",
       "\n",
       "    .dataframe tbody tr th {\n",
       "        vertical-align: top;\n",
       "    }\n",
       "\n",
       "    .dataframe thead th {\n",
       "        text-align: right;\n",
       "    }\n",
       "</style>\n",
       "<table border=\"1\" class=\"dataframe\">\n",
       "  <thead>\n",
       "    <tr style=\"text-align: right;\">\n",
       "      <th></th>\n",
       "      <th>phone</th>\n",
       "      <th>cost</th>\n",
       "      <th>count</th>\n",
       "    </tr>\n",
       "  </thead>\n",
       "  <tbody>\n",
       "    <tr>\n",
       "      <th>0</th>\n",
       "      <td>400-234-090</td>\n",
       "      <td>free</td>\n",
       "      <td>2</td>\n",
       "    </tr>\n",
       "    <tr>\n",
       "      <th>1</th>\n",
       "      <td>701-080-080</td>\n",
       "      <td>900</td>\n",
       "      <td>1</td>\n",
       "    </tr>\n",
       "  </tbody>\n",
       "</table>\n",
       "</div>"
      ],
      "text/plain": [
       "         phone  cost  count\n",
       "0  400-234-090  free      2\n",
       "1  701-080-080   900      1"
      ]
     },
     "execution_count": 2,
     "metadata": {},
     "output_type": "execute_result"
    }
   ],
   "source": [
    "import numpy as np\n",
    "import pandas as pd\n",
    "import matplotlib.pyplot as plt\n",
    "import seaborn as sns\n",
    "import warnings\n",
    "\n",
    "%matplotlib inline\n",
    "warnings.filterwarnings('ignore')\n",
    "\n",
    "from io import StringIO\n",
    "\n",
    "def solution(a = str()):\n",
    "    stringData = StringIO(\"\"\"time,phone\n",
    "    {}\"\"\".format(a), newline='\\n')\n",
    "\n",
    "    time_phone = pd.read_csv(stringData, sep=\",\")\n",
    "    time_phone[['h','m','s']] = time_phone['time'].str.split(':', expand=True)\n",
    "    time_phone = time_phone.astype({'h':'int','m':'int','s':'int'})\n",
    "    \n",
    "    condition = [\n",
    "        (time_phone.m<5),\n",
    "        time_phone.m>=5\n",
    "    ]\n",
    "    values = [((time_phone.m*60)+time_phone.s)*3,(time_phone.m+time_phone.s)*150]\n",
    "    \n",
    "    time_phone['cost'] = np.select(condition,values)\n",
    "    \n",
    "    time_phone.drop(columns=['h','m','s'], inplace=True)\n",
    "    \n",
    "    df = time_phone.groupby('phone')['cost'].agg(['sum','count']).reset_index().rename(columns={'sum':'cost'}).sort_values(by=['count'], ascending=False)\n",
    "\n",
    "    df.replace({df.iloc[0]['cost']:'free'}, inplace=True)\n",
    "    return(df)\n",
    "    \n",
    "    return(time_phone)\n",
    "\n",
    "solution(\"\"\"00:01:07,400-234-090\n",
    "00:05:01,701-080-080\n",
    "00:05:00,400-234-090\"\"\")"
   ]
  },
  {
   "cell_type": "code",
   "execution_count": null,
   "metadata": {},
   "outputs": [],
   "source": []
  },
  {
   "cell_type": "code",
   "execution_count": null,
   "metadata": {},
   "outputs": [],
   "source": []
  },
  {
   "cell_type": "code",
   "execution_count": null,
   "metadata": {},
   "outputs": [],
   "source": []
  }
 ],
 "metadata": {
  "kernelspec": {
   "display_name": "Python 3",
   "language": "python",
   "name": "python3"
  },
  "language_info": {
   "codemirror_mode": {
    "name": "ipython",
    "version": 3
   },
   "file_extension": ".py",
   "mimetype": "text/x-python",
   "name": "python",
   "nbconvert_exporter": "python",
   "pygments_lexer": "ipython3",
   "version": "3.8.5"
  }
 },
 "nbformat": 4,
 "nbformat_minor": 4
}
